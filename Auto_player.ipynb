{
 "cells": [
  {
   "cell_type": "markdown",
   "metadata": {},
   "source": [
    "# Web browser automation\n",
    "\n",
    "Objective: Automate a certain mouse catching web game using Selenium on a local computer."
   ]
  },
  {
   "cell_type": "markdown",
   "metadata": {},
   "source": [
    "Username: mousehunt account username (string)\n",
    "\n",
    "Password: mousehunt account password (string)\n",
    "\n",
    "token: telegram bot token (string)\n",
    "\n",
    "path: not in use currently."
   ]
  },
  {
   "cell_type": "code",
   "execution_count": 1,
   "metadata": {},
   "outputs": [],
   "source": [
    "# import all the stuff!\n",
    "\n",
    "from selenium import webdriver\n",
    "from selenium.webdriver.common.keys import Keys\n",
    "from selenium.common.exceptions import TimeoutException\n",
    "from selenium.webdriver.support.ui import WebDriverWait\n",
    "from selenium.webdriver.support import expected_conditions as EC\n",
    "from selenium.webdriver.common.by import By\n",
    "\n",
    "from random import randint\n",
    "import time\n",
    "import requests\n",
    "import json\n",
    "\n",
    "# set login username and password"
   ]
  },
  {
   "cell_type": "code",
   "execution_count": 40,
   "metadata": {},
   "outputs": [],
   "source": [
    "username = ''\n",
    "password = ''\n",
    "token = ''\n",
    "last_updated_id = 0\n",
    "path = \"\" \n"
   ]
  },
  {
   "cell_type": "code",
   "execution_count": 2,
   "metadata": {},
   "outputs": [],
   "source": [
    "def login(username, password):\n",
    "    '''opens a chrome browser, and logs into selenium with a username and password. \n",
    "    assumes that the user currently has an account.\n",
    "    returns driver object on successful login.'''\n",
    "    try:   \n",
    "        driver = webdriver.Chrome()\n",
    "        driver.get(\"http://www.mousehuntgame.com\")\n",
    "        sign_in_text = driver.find_element_by_class_name('signInText')\n",
    "        sign_in_text.click()\n",
    "        #wait for scrollingContainer\n",
    "        driver.implicitly_wait(2)\n",
    "        login = driver.find_elements_by_class_name('scrollingContainer')[1] #select the form for existing user log in.\n",
    "        # Why is it [1]? Only way I could make it work. find_elements unable to take arguments with a space in them for some reason.\n",
    "        login_username = login.find_element_by_name('username')\n",
    "        login_username.send_keys(username)\n",
    "        login_password = login.find_element_by_name('password')\n",
    "        login_password.send_keys(password)\n",
    "        login.find_element_by_class_name('actionButton').click()\n",
    "    except:\n",
    "        return False\n",
    "    return driver\n",
    "    "
   ]
  },
  {
   "cell_type": "code",
   "execution_count": 4,
   "metadata": {},
   "outputs": [],
   "source": [
    "def sound_the_horn(driver):\n",
    "    # Click the hunters horn in HUD and return True. returns false if no hunters horn found.\n",
    "    try:\n",
    "        driver.find_element_by_class_name('mousehuntHud-huntersHorn').click()\n",
    "    except:\n",
    "        return False\n",
    "    return True\n"
   ]
  },
  {
   "cell_type": "markdown",
   "metadata": {},
   "source": [
    "# Need to find out: What are the elements present during kings reward?\n"
   ]
  },
  {
   "cell_type": "code",
   "execution_count": 5,
   "metadata": {},
   "outputs": [],
   "source": [
    "def check_kings_reward(driver):\n",
    "    # check for kings reward. Currently not working as intended, it always returns True.\n",
    "    try:\n",
    "        driver.find_element_by_class_name('mousehuntPage-puzzle-formContainer')\n",
    "    except:\n",
    "        return False\n",
    "    return True\n"
   ]
  },
  {
   "cell_type": "code",
   "execution_count": 6,
   "metadata": {},
   "outputs": [],
   "source": [
    "# find next hunt time\n",
    "def next_hunt_time(driver, delay_minimum=0, delay_maximum=60):\n",
    "    # returns the number of seconds till the next horn.\n",
    "    # can add a random number of additional seconds to the next horn. default set as between 0,60 for safety.\n",
    "    \n",
    "    seconds = 0\n",
    "    current_time = driver.find_element_by_class_name('mousehuntHud-hornTimer').text #grab current time in HUD\n",
    "    # current time is a string, convert it into integer. (seconds)\n",
    "    if current_time == \"Ready!\":\n",
    "        return 0\n",
    "    if current_time[1] == \":\":\n",
    "        #current time is less than 10:00\n",
    "        minutes_to_second = 60*int(current_time[0:1])\n",
    "        seconds += minutes_to_second\n",
    "        seconds += int(current_time[-2:])\n",
    "    else: # current time => 10:00\n",
    "        minutes_to_second = 60*int(current_time[0:2]) \n",
    "        seconds += minutes_to_second\n",
    "        seconds += int(current_time[-2:]) \n",
    "    \n",
    "    # add some random amount of seconds to simulate randomness. by default, no seconds added.\n",
    "    seconds += randint(delay_minimum, delay_maximum)\n",
    "    print(\"Seconds till next hunt is: \", seconds)\n",
    "    return seconds\n",
    "\n",
    "    \n",
    "    \n",
    "        \n",
    "        \n"
   ]
  },
  {
   "cell_type": "code",
   "execution_count": 7,
   "metadata": {},
   "outputs": [],
   "source": [
    "#last_updated_id = 123123\n",
    "def ask_user_clear_kr(last_updated_id, token):\n",
    "    '''This function returns the solved kings reward, and the message ID used to solve that reward. \n",
    "    last_updated_id: function remembers the last input received by user, and checks for new inputs\n",
    "    token: token for telegram bot.'''\n",
    "    url = 'https://api.telegram.org/bot%s/' % token\n",
    "\n",
    "    get_updates = json.loads(requests.get(url + 'getUpdates').content)\n",
    "    print (get_updates['result'][-1]['message']['from']['id'])\n",
    "\n",
    "\n",
    "    send_to_user_id = (get_updates['result'][-1]['message']['from']['id'])\n",
    "    # Ping user once\n",
    "    requests.get(url + 'sendMessage', params=dict(chat_id=send_to_user_id, text=\"Horn has failed\"))\n",
    "\n",
    "\n",
    "    \n",
    "    # We want to keep checking for updates. So this must be a never ending loop\n",
    "    while True:\n",
    "    # My chat is up and running, I need to maintain it! Get me all chat updates\n",
    "        get_updates = json.loads(requests.get(url + 'getUpdates').content)\n",
    "        # check the id of last received message, compare to ID of latest message in stack.\n",
    "        if last_updated_id == (get_updates['result'][-1]['update_id']):\n",
    "            # if true, implies user has not responded. wait 60 seconds, check again.\n",
    "            print(\"Same ID.\")\n",
    "            \n",
    "            sleep(60)\n",
    "        else:\n",
    "            # if false, we have a new message. grab this message, store in variable.\n",
    "            solved_kr_string = get_updates['result'][-1]['message']['text']\n",
    "            print (solved_kr_string)\n",
    "            last_updated_id = get_updates['result'][-1]['update_id']\n",
    "            return solved_kr_string, last_updated_id\n",
    "            "
   ]
  },
  {
   "cell_type": "markdown",
   "metadata": {},
   "source": [
    "Run the below cell to start the process."
   ]
  },
  {
   "cell_type": "code",
   "execution_count": 16,
   "metadata": {},
   "outputs": [
    {
     "ename": "NameError",
     "evalue": "name 'username' is not defined",
     "output_type": "error",
     "traceback": [
      "\u001b[0;31m---------------------------------------------------------------------------\u001b[0m",
      "\u001b[0;31mNameError\u001b[0m                                 Traceback (most recent call last)",
      "\u001b[0;32m<ipython-input-16-0ff8439d2318>\u001b[0m in \u001b[0;36m<module>\u001b[0;34m\u001b[0m\n\u001b[0;32m----> 1\u001b[0;31m \u001b[0mdriver\u001b[0m \u001b[0;34m=\u001b[0m \u001b[0mlogin\u001b[0m\u001b[0;34m(\u001b[0m\u001b[0musername\u001b[0m\u001b[0;34m,\u001b[0m\u001b[0mpassword\u001b[0m\u001b[0;34m)\u001b[0m\u001b[0;34m\u001b[0m\u001b[0m\n\u001b[0m\u001b[1;32m      2\u001b[0m \u001b[0;34m\u001b[0m\u001b[0m\n\u001b[1;32m      3\u001b[0m \u001b[0mtime\u001b[0m\u001b[0;34m.\u001b[0m\u001b[0msleep\u001b[0m\u001b[0;34m(\u001b[0m\u001b[0;36m2\u001b[0m\u001b[0;34m)\u001b[0m\u001b[0;34m\u001b[0m\u001b[0m\n\u001b[1;32m      4\u001b[0m \u001b[0;34m\u001b[0m\u001b[0m\n\u001b[1;32m      5\u001b[0m \u001b[0;32mwhile\u001b[0m \u001b[0;32mTrue\u001b[0m\u001b[0;34m:\u001b[0m\u001b[0;34m\u001b[0m\u001b[0m\n",
      "\u001b[0;31mNameError\u001b[0m: name 'username' is not defined"
     ]
    }
   ],
   "source": [
    "driver = login(username,password)\n",
    "\n",
    "time.sleep(2)\n",
    "\n",
    "while True:\n",
    "    time.sleep(next_hunt_time(driver)) #sleeps for an amount of time between 0 to 15 minutes \n",
    "    sound_the_horn(driver)\n",
    "    if sound_the_horn(driver == False):\n",
    "        # when exception occur, means kings reward probably. \n",
    "        driver.refresh()\n",
    "        #take a screenshot of kings reward.\n",
    "        driver.save_screenshot(path)\n",
    "        # send screenshot via telegram.\n",
    "        solved_kr_string, last_updated_id = ask_user_clear_kc(last_updated_id, token)\n",
    "        \n",
    "        # \n",
    "        # return to start of loop."
   ]
  },
  {
   "cell_type": "code",
   "execution_count": null,
   "metadata": {},
   "outputs": [],
   "source": []
  }
 ],
 "metadata": {
  "kernelspec": {
   "display_name": "Python 3",
   "language": "python",
   "name": "python3"
  },
  "language_info": {
   "codemirror_mode": {
    "name": "ipython",
    "version": 3
   },
   "file_extension": ".py",
   "mimetype": "text/x-python",
   "name": "python",
   "nbconvert_exporter": "python",
   "pygments_lexer": "ipython3",
   "version": "3.6.6"
  }
 },
 "nbformat": 4,
 "nbformat_minor": 2
}
