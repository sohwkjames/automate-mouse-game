{
 "cells": [
  {
   "cell_type": "markdown",
   "metadata": {},
   "source": [
    "# Web browser automation\n",
    "\n",
    "Objective: Automate a certain mouse catching web game using Selenium on a local computer."
   ]
  },
  {
   "cell_type": "code",
   "execution_count": 158,
   "metadata": {},
   "outputs": [],
   "source": [
    "driver = webdriver.Chrome()"
   ]
  },
  {
   "cell_type": "code",
   "execution_count": 159,
   "metadata": {},
   "outputs": [],
   "source": [
    "# import all the stuff!\n",
    "\n",
    "from selenium import webdriver\n",
    "from selenium.webdriver.common.keys import Keys"
   ]
  },
  {
   "cell_type": "code",
   "execution_count": 160,
   "metadata": {},
   "outputs": [],
   "source": [
    "# go to url\n",
    "driver.get(\"http://www.mousehuntgame.com\")"
   ]
  },
  {
   "cell_type": "code",
   "execution_count": 163,
   "metadata": {},
   "outputs": [],
   "source": [
    "# Use CSS to find input boxes. Untested, need to study this.\n",
    "# user_input_register = driver.find_element_by_css_selector(\"div.register input[name='username']\")\n",
    "# user_input_login = driver.find_element_by_css_selector(\"div.login input[name='username']\")\n"
   ]
  },
  {
   "cell_type": "code",
   "execution_count": 164,
   "metadata": {},
   "outputs": [],
   "source": [
    "# to register account\n",
    "#register = driver.find_element_by_class_name('register')\n",
    "register = driver.find_element_by_class_name('loginFormContainer') # find the container first. <div class = \"loginFormContainer\"\n",
    "\n",
    "#username_register = register.find_element_by_name('username')\n",
    "username_signup = register.find_element_by_name('username') # then, find the individual element. in inspect, will be shown as input.username\n",
    "email_signup = register.find_element_by_name('email')\n",
    "username_signup.send_keys(\"aaa\") #to fill in username box\n",
    "email_signup.send_keys(\"bbb\")"
   ]
  },
  {
   "cell_type": "code",
   "execution_count": 165,
   "metadata": {},
   "outputs": [],
   "source": [
    "# If user already has account, click \"sign in\".\n",
    "sign_in_text = driver.find_element_by_class_name('signInText')\n",
    "sign_in_text.click()"
   ]
  },
  {
   "cell_type": "code",
   "execution_count": 166,
   "metadata": {},
   "outputs": [],
   "source": [
    "# login with existing account. Set variables for your username and password.\n",
    "\n",
    "username = 'sohwkjames'\n",
    "password = 'Omgwtflol11'\n",
    "\n",
    "login = driver.find_elements_by_class_name('scrollingContainer')[1] #select the form for existing user log in.\n",
    "# Why is it [1]? Only way I could make it work. find_elements unable to take arguments with a space in them for some reason.\n",
    "login_username = login.find_element_by_name('username')\n",
    "login_username.send_keys(username)\n",
    "login_password = login.find_element_by_name('password')\n",
    "login_password.send_keys(password)"
   ]
  },
  {
   "cell_type": "code",
   "execution_count": 148,
   "metadata": {
    "collapsed": true
   },
   "outputs": [
    {
     "data": {
      "text/plain": [
       "[<selenium.webdriver.remote.webelement.WebElement (session=\"c8c97aba6b746d5613f94c3c61138816\", element=\"0.8971000134526996-1\")>,\n",
       " <selenium.webdriver.remote.webelement.WebElement (session=\"c8c97aba6b746d5613f94c3c61138816\", element=\"0.8971000134526996-2\")>,\n",
       " <selenium.webdriver.remote.webelement.WebElement (session=\"c8c97aba6b746d5613f94c3c61138816\", element=\"0.8971000134526996-3\")>]"
      ]
     },
     "execution_count": 148,
     "metadata": {},
     "output_type": "execute_result"
    }
   ],
   "source": [
    "# print out class names containing 'scrollingContainer' just to see.\n",
    "#driver.find_elements_by_class_name('scrollingContainer')"
   ]
  },
  {
   "cell_type": "code",
   "execution_count": 170,
   "metadata": {},
   "outputs": [],
   "source": [
    "# clicks log in\n",
    "login.find_element_by_class_name('actionButton').click()"
   ]
  },
  {
   "cell_type": "code",
   "execution_count": null,
   "metadata": {},
   "outputs": [],
   "source": []
  },
  {
   "cell_type": "code",
   "execution_count": null,
   "metadata": {},
   "outputs": [],
   "source": []
  }
 ],
 "metadata": {
  "kernelspec": {
   "display_name": "Python 3",
   "language": "python",
   "name": "python3"
  },
  "language_info": {
   "codemirror_mode": {
    "name": "ipython",
    "version": 3
   },
   "file_extension": ".py",
   "mimetype": "text/x-python",
   "name": "python",
   "nbconvert_exporter": "python",
   "pygments_lexer": "ipython3",
   "version": "3.6.6"
  }
 },
 "nbformat": 4,
 "nbformat_minor": 2
}
